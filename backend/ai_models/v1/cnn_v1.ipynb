{
 "cells": [
  {
   "cell_type": "markdown",
   "id": "3a6f3abf",
   "metadata": {},
   "source": [
    "## CNN to recognize structure lines with insensitivity to light\n",
    "\n",
    "### Features -"
   ]
  },
  {
   "cell_type": "code",
   "execution_count": 1,
   "id": "9feee3e5",
   "metadata": {},
   "outputs": [],
   "source": [
    "# ========================#\n",
    "#        imports          # \n",
    "# ========================#\n",
    "import tensorflow as tf\n",
    "from tensorflow.keras import layers\n",
    "from tensorflow.keras import models\n",
    "import numpy as np\n",
    "import matplotlib.pyplot as plt\n",
    "import pandas as pd\n"
   ]
  },
  {
   "cell_type": "code",
   "execution_count": null,
   "id": "79a80c0e",
   "metadata": {},
   "outputs": [],
   "source": [
    "def build_feature_extractor():\n",
    "    model = models.Sequential([\n",
    "        layers.Conv2D(32, (5, 5), activation='relu', input_shape=(64, 64, 1)),  # Assume structure lines as 1 channel\n",
    "        layers.MaxPooling2D((2, 2)),\n",
    "        \n",
    "        layers.Conv2D(64, (5, 5), activation='relu'),\n",
    "        layers.MaxPooling2D((2, 2)),\n",
    "        \n",
    "        layers.Conv2D(128, (5, 5), activation='relu'),\n",
    "        layers.GlobalAveragePooling2D(),\n",
    "        \n",
    "        layers.Dense(64)  # Output feature vector\n",
    "    ])\n",
    "    \n",
    "    return model\n",
    "\n",
    "\n"
   ]
  }
 ],
 "metadata": {
  "kernelspec": {
   "display_name": ".venv",
   "language": "python",
   "name": "python3"
  },
  "language_info": {
   "codemirror_mode": {
    "name": "ipython",
    "version": 3
   },
   "file_extension": ".py",
   "mimetype": "text/x-python",
   "name": "python",
   "nbconvert_exporter": "python",
   "pygments_lexer": "ipython3",
   "version": "3.11.12"
  }
 },
 "nbformat": 4,
 "nbformat_minor": 5
}
